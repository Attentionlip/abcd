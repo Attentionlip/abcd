{
 "cells": [
  {
   "cell_type": "code",
   "execution_count": 20,
   "metadata": {},
   "outputs": [],
   "source": [
    "import os\n",
    "import numpy as numpy\n",
    "import glob\n",
    "import subprocess\n",
    "from tqdm import tqdm\n",
    "from argparse import ArgumentParser\n",
    "from functools import partial\n",
    "\n",
    "import pandas as pd\n",
    "# !pip install pandas"
   ]
  },
  {
   "cell_type": "code",
   "execution_count": 16,
   "metadata": {},
   "outputs": [
    {
     "name": "stdout",
     "output_type": "stream",
     "text": [
      "3783\n"
     ]
    }
   ],
   "source": [
    "dir_root = '/mnt/data/datasets/lrs2/mvlrs_v1/main'\n",
    "\n",
    "lst_data = glob.glob(os.path.join(dir_root, '*'))\n",
    "\n",
    "dic_data = {}\n",
    "\n",
    "for _data in lst_data:\n",
    "    _id = _data.split('/')\n",
    "\n",
    "print(len(lst_data))"
   ]
  },
  {
   "cell_type": "code",
   "execution_count": 35,
   "metadata": {},
   "outputs": [],
   "source": [
    "dir_set = './train.txt'\n",
    "\n",
    "df_set = pd.read_table(dir_set, header=None)\n"
   ]
  },
  {
   "cell_type": "code",
   "execution_count": 36,
   "metadata": {},
   "outputs": [
    {
     "data": {
      "text/plain": [
       "0    6298351355700308615/00035\n",
       "Name: 45838, dtype: object"
      ]
     },
     "execution_count": 36,
     "metadata": {},
     "output_type": "execute_result"
    }
   ],
   "source": [
    "df_set.iloc[-1]"
   ]
  },
  {
   "cell_type": "code",
   "execution_count": null,
   "metadata": {},
   "outputs": [],
   "source": []
  }
 ],
 "metadata": {
  "kernelspec": {
   "display_name": "Python 3",
   "language": "python",
   "name": "python3"
  },
  "language_info": {
   "codemirror_mode": {
    "name": "ipython",
    "version": 3
   },
   "file_extension": ".py",
   "mimetype": "text/x-python",
   "name": "python",
   "nbconvert_exporter": "python",
   "pygments_lexer": "ipython3",
   "version": "3.8.10"
  }
 },
 "nbformat": 4,
 "nbformat_minor": 2
}
